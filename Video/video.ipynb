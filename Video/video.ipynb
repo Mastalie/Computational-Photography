{
 "cells": [
  {
   "cell_type": "markdown",
   "metadata": {},
   "source": [
    "# Video\n",
    "## Duke Kunshan University Fall 2017\n",
    "### David Brady\n",
    "Monday 20 November 2017"
   ]
  },
  {
   "cell_type": "markdown",
   "metadata": {},
   "source": [
    "This is a the week four Jupyter Notebook for discussion in class\n",
    "\n"
   ]
  },
  {
   "cell_type": "code",
   "execution_count": 1,
   "metadata": {},
   "outputs": [
    {
     "name": "stderr",
     "output_type": "stream",
     "text": [
      "/Users/yeko/anaconda/lib/python3.6/site-packages/skimage/viewer/utils/core.py:10: UserWarning: Recommended matplotlib backend is `Agg` for full skimage.viewer functionality.\n",
      "  warn(\"Recommended matplotlib backend is `Agg` for full \"\n"
     ]
    }
   ],
   "source": [
    "import numpy as np\n",
    "import matplotlib as mpl\n",
    "import matplotlib.pyplot as plt\n",
    "import subprocess\n",
    "import skimage\n",
    "import skimage.io as imio\n",
    "import skimage.transform as trans\n",
    "from skimage.viewer import ImageViewer\n",
    "import glob\n",
    "import re\n",
    "from moviepy.editor import *\n",
    "from time import gmtime, strftime, sleep\n",
    "from scipy import interpolate as interp\n",
    "import sys\n",
    "sys.path.append('/usr/local/opt/opencv@3/lib/python3.6/site-packages')\n",
    "import cv2\n",
    "%matplotlib inline\n",
    "mpl.rcParams['figure.figsize'] = (16.0, 8.0) "
   ]
  },
  {
   "cell_type": "code",
   "execution_count": 2,
   "metadata": {
    "collapsed": true
   },
   "outputs": [],
   "source": [
    "def grabVideo(sid=1, imres=8, cameraNumber=1, fps=30):\n",
    "    # I will use the file name vidGrab.... for the image grabbed from the camera. First step is to get rid of previously grabbed images\n",
    "    cmdA='ssh ubuntu@10.0.1.'+str(cameraNumber)\n",
    "    cmdB='scp ubuntu@10.0.1.'+str(cameraNumber)\n",
    "    subprocess.run('rm vidGrab*', \\\n",
    "                   stdout=subprocess.PIPE, shell=True)\n",
    "    subprocess.run(cmdA+' \"rm vidGrab*\"', \\\n",
    "                   stdout=subprocess.PIPE, shell=True)\n",
    "    # ok, now let's grab an video on the tegra\n",
    "    cmD=cmdA+' \"nvgstcapture-1.0 -m 2 --sensor-id '+str(sid)+' -A '\\\n",
    "            +'--capture-auto 1 --fpsRange=\"'+str(fps)+' '+str(fps)+'\"'\\\n",
    "            +'--capture-time 30 --file-name vidGrab --image-res '\\\n",
    "            + str(imres)+'\"'\n",
    "    subprocess.run(cmD, stdout=subprocess.PIPE, shell=True)\n",
    "    subprocess.run(cmdB+':vidGrab* .', \\\n",
    "                   stdout=subprocess.PIPE, shell=True)\n",
    "    #ok, now let's find the file name of the image we just grabbed \n",
    "    # and transfered \n",
    "    pop=subprocess.run('ls',stdout=subprocess.PIPE, shell=True)\n",
    "    rePop=pop.stdout\n",
    "    rePop=rePop.decode(\"utf-8\")\n",
    "    fileName = re.search(r'vidGrab(.*)', rePop)\n",
    "    fileName=fileName.group()\n",
    "    pop=VideoFileClip(fileName)\n",
    "    return pop"
   ]
  },
  {
   "cell_type": "code",
   "execution_count": 3,
   "metadata": {
    "collapsed": true
   },
   "outputs": [],
   "source": [
    "def gstVideo(sid=1, cameraNumber=1, captureMode=1, frames=1200, framerate=240, fileOut=\"test.mp4\"):\n",
    "        cmdA='ssh ubuntu@10.0.1.'+str(cameraNumber)\n",
    "        cmdB='scp ubuntu@10.0.1.'+str(cameraNumber)\n",
    "        cmD=cmdA+\" /home/ubuntu/bin/grabVideo.py \"+str(sid)+' '+str(frames)+' '+str(captureMode)\n",
    "        a=subprocess.run(cmD, stdout=subprocess.PIPE, shell=True)\n",
    "        subprocess.run(cmdB+':grabVid.h264 .', \\\n",
    "            stdout=subprocess.PIPE, shell=True)\n",
    "        subprocess.run('ffmpeg -r '+str(framerate)+' -i grabVid.h264 -an -y -vcodec copy '+fileOut, \\\n",
    "            stdout=subprocess.PIPE, shell=True)\n",
    "        return a.stdout"
   ]
  },
  {
   "cell_type": "code",
   "execution_count": null,
   "metadata": {},
   "outputs": [],
   "source": [
    "clip=grabVideo(fps=30)\n",
    "clip.write_videofile(\"test3.mp4\")\n",
    "ipython_display(\"./test3.mp4\", width=240)"
   ]
  },
  {
   "cell_type": "code",
   "execution_count": 16,
   "metadata": {
    "collapsed": true
   },
   "outputs": [],
   "source": [
    "fOut=\"clock30.mp4\"\n",
    "clip=gstVideo(fileOut=fOut)"
   ]
  },
  {
   "cell_type": "code",
   "execution_count": 6,
   "metadata": {},
   "outputs": [
    {
     "ename": "AttributeError",
     "evalue": "module 'cv2' has no attribute 'LoadImage'",
     "output_type": "error",
     "traceback": [
      "\u001b[0;31m---------------------------------------------------------------------------\u001b[0m",
      "\u001b[0;31mAttributeError\u001b[0m                            Traceback (most recent call last)",
      "\u001b[0;32m<ipython-input-6-a003b4ead180>\u001b[0m in \u001b[0;36m<module>\u001b[0;34m()\u001b[0m\n\u001b[0;32m----> 1\u001b[0;31m \u001b[0morig\u001b[0m \u001b[0;34m=\u001b[0m \u001b[0mcv2\u001b[0m\u001b[0;34m.\u001b[0m\u001b[0mLoadImage\u001b[0m\u001b[0;34m(\u001b[0m\u001b[0;34m\"test3.mp4\"\u001b[0m\u001b[0;34m)\u001b[0m\u001b[0;34m\u001b[0m\u001b[0m\n\u001b[0m\u001b[1;32m      2\u001b[0m \u001b[0mcv2\u001b[0m\u001b[0;34m.\u001b[0m\u001b[0mFlip\u001b[0m\u001b[0;34m(\u001b[0m\u001b[0morig\u001b[0m\u001b[0;34m,\u001b[0m \u001b[0mflipMode\u001b[0m\u001b[0;34m=\u001b[0m\u001b[0;34m-\u001b[0m\u001b[0;36m1\u001b[0m\u001b[0;34m)\u001b[0m\u001b[0;34m\u001b[0m\u001b[0m\n\u001b[1;32m      3\u001b[0m \u001b[0mcv2\u001b[0m\u001b[0;34m.\u001b[0m\u001b[0mShowImage\u001b[0m\u001b[0;34m(\u001b[0m\u001b[0;34m'180_rotation'\u001b[0m\u001b[0;34m,\u001b[0m \u001b[0morig\u001b[0m\u001b[0;34m)\u001b[0m\u001b[0;34m\u001b[0m\u001b[0m\n\u001b[1;32m      4\u001b[0m \u001b[0mcv2\u001b[0m\u001b[0;34m.\u001b[0m\u001b[0mWaitKey\u001b[0m\u001b[0;34m(\u001b[0m\u001b[0;36m0\u001b[0m\u001b[0;34m)\u001b[0m\u001b[0;34m\u001b[0m\u001b[0m\n",
      "\u001b[0;31mAttributeError\u001b[0m: module 'cv2' has no attribute 'LoadImage'"
     ]
    }
   ],
   "source": [
    "orig = cv.LoadImage(\"test3.mp4\")\n",
    "cv.Flip(orig, flipMode=-1)\n",
    "cv.ShowImage('180_rotation', orig)\n",
    "cv.WaitKey(0)"
   ]
  },
  {
   "cell_type": "code",
   "execution_count": null,
   "metadata": {
    "collapsed": true
   },
   "outputs": [],
   "source": []
  }
 ],
 "metadata": {
  "kernelspec": {
   "display_name": "Python 3",
   "language": "python",
   "name": "python3"
  },
  "language_info": {
   "codemirror_mode": {
    "name": "ipython",
    "version": 3
   },
   "file_extension": ".py",
   "mimetype": "text/x-python",
   "name": "python",
   "nbconvert_exporter": "python",
   "pygments_lexer": "ipython3",
   "version": "3.6.1"
  }
 },
 "nbformat": 4,
 "nbformat_minor": 2
}
